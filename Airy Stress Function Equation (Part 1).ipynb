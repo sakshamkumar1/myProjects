{
 "cells": [
  {
   "cell_type": "markdown",
   "metadata": {},
   "source": [
    "# <center>Airy Stress Function Equation for a Nonhomogeneous Material with Elastic Modulus Varying Exponentially</center>\n",
    "## <center><b>(Applied Elasticity Term Project - Part 1)</b></center>\n",
    "### <center><b>Submission by: Group No. 5</b></center>\n",
    "\n",
    "<b>Team Members:-</b>\n",
    "<br>Dewang Suresh Gandhi (20ME63R27)</br>\n",
    "<br>Saksham Kumar (20ME63R44)</br>\n",
    "<br>Shivanshu Zamdagni (20ME63S01)</br>\n",
    "<br>Vishwanadhapalli Ganesh(20ME63R24)</br>"
   ]
  },
  {
   "cell_type": "markdown",
   "metadata": {},
   "source": [
    "### Problem Introduction \n",
    "\n",
    "In materials science Functionally Graded Materials may be characterized by the variation in composition and structure gradually over volume, resulting in corresponding changes in the properties of the material. These materials can be designed for specific function and applications. \n",
    "\n",
    "The aim of this part-1 of our term project is to calculate the Governing Airy Stress Function Equation of a Functionally Graded Material with exponentially varying Elastic modulus for a two-dimensional plane stress problem with zero body forces acting on it. In our problem, the poison's ratio, $\\nu$ is constant whereas the Young's modulus, $E$ is varying as: $E(x) = E_0e^{ax}$, where $E_0$ and $a$ are constants."
   ]
  },
  {
   "cell_type": "markdown",
   "metadata": {},
   "source": [
    "### <b>Motivation and Formulation Method</b> \n",
    "<br>The reason for choosing this problem is that this problem is addressing a very general situation of a Functionally Graded material which is highly relevant to practical situations because now a days composite materials are very common. It is also being used by the researchers in the fracture mechanics of non homogeneous material. \n",
    "\n",
    "So, in this project our work includes \n",
    "1. The definition of exponentially varying elastic modulus.\n",
    "2. Defining the various strain components using constitutive laws.\n",
    "3. Assuming plane stress problem, defining stress components in terms of Airy stress functions and utilising compatibility relations to obtain the non-homogeneous Airy stress function equation.\n",
    "<br><br><b>Location of Different Parts of the Problem</b>\n",
    "<br><br>1. Defining a $x$ and $y$ dependent Airy stress function i.e. $φ(x,y)$: In[1]\n",
    "<br>2. Defining the Elastic Modulus $E$ varying as: $E(x) = E_0e^{ax}$ and other related formulations: In[3] to In[5}\n",
    "<br>3. Defining the strain components in terms of the stress fields: In[6]\n",
    "<br>4. Defining the stress fields in terms of airy stress function: In[7]\n",
    "<br>5. Defining the strain components in terms of airy stress function: In[7]\n",
    "<br>6. Utilisation of constitutive law, stress equilibrium equations and compatibility equations and further simplification: In[8] to In[13]"
   ]
  },
  {
   "cell_type": "code",
   "execution_count": 1,
   "metadata": {},
   "outputs": [],
   "source": [
    "import sympy as sym"
   ]
  },
  {
   "cell_type": "markdown",
   "metadata": {},
   "source": [
    "First, we will define a $x$ and $y$ dependent Airy stress function i.e. $φ(x,y)$ and its partial differentiation w.r.t $x$ and $y$,"
   ]
  },
  {
   "cell_type": "code",
   "execution_count": 2,
   "metadata": {},
   "outputs": [],
   "source": [
    "x, y = sym.symbols('x, y')\n",
    "phi = sym.Function('varphi')(x,y)\n",
    "\n",
    "def del_delx(f):\n",
    "    return sym.diff(f,x)\n",
    "def del_dely(f):\n",
    "    return sym.diff(f,y)\n",
    "def del2_delx(f):\n",
    "    return del_delx(del_delx(f))\n",
    "def del2_dely(f):\n",
    "    return del_dely(del_dely(f))\n"
   ]
  },
  {
   "cell_type": "markdown",
   "metadata": {},
   "source": [
    "Now, we will define the equation of the Young's modulus varying exponentially with $x$, i.e., $E(x) = E_0e^{ax}$."
   ]
  },
  {
   "cell_type": "code",
   "execution_count": 3,
   "metadata": {},
   "outputs": [
    {
     "data": {
      "text/latex": [
       "$\\displaystyle E{\\left(x \\right)} = E_{0} e^{a x}$"
      ],
      "text/plain": [
       "Eq(E(x), E_0*exp(a*x))"
      ]
     },
     "metadata": {},
     "output_type": "display_data"
    }
   ],
   "source": [
    "E0, a = sym.symbols('E_0, a')\n",
    "E = sym.Function('E')(x)\n",
    "lhs1 = E\n",
    "rhs1 = E0*sym.exp(a*x)\n",
    "eq1 = sym.Eq(lhs1,rhs1)\n",
    "display(eq1)\n",
    "\n",
    "nu = sym.symbols('nu')\n",
    "# display(nu)"
   ]
  },
  {
   "cell_type": "markdown",
   "metadata": {},
   "source": [
    "In the next step we have extracted the differential of the above equation w.r.t $x$. It may come handy in expressing the equations, later."
   ]
  },
  {
   "cell_type": "code",
   "execution_count": 4,
   "metadata": {},
   "outputs": [
    {
     "data": {
      "text/latex": [
       "$\\displaystyle E_{x} = E_{0} a e^{a x}$"
      ],
      "text/plain": [
       "Eq(E_x, E_0*a*exp(a*x))"
      ]
     },
     "metadata": {},
     "output_type": "display_data"
    }
   ],
   "source": [
    "def del_delx(f):\n",
    "  return sym.diff(f,x)\n",
    "\n",
    "dE_dx = sym.symbols('E_x')\n",
    "lhs2 = dE_dx\n",
    "rhs2 = sym.diff(rhs1,x)\n",
    "eq2 = sym.Eq(lhs2,rhs2)\n",
    "display(eq2)"
   ]
  },
  {
   "cell_type": "markdown",
   "metadata": {},
   "source": [
    "Rearranging the above equation in a form which we will be useful to us for the simlification of the solution, later. In RHS, we have re-written $E_0e^{ax} = E$ and then, divide both sides by $E^2$, so that we get the value of $\\frac{a}{E}$."
   ]
  },
  {
   "cell_type": "code",
   "execution_count": 5,
   "metadata": {},
   "outputs": [
    {
     "data": {
      "text/latex": [
       "$\\displaystyle \\frac{a}{E{\\left(x \\right)}} = \\frac{E_{x}}{E^{2}{\\left(x \\right)}}$"
      ],
      "text/plain": [
       "Eq(a/E(x), E_x/E(x)**2)"
      ]
     },
     "metadata": {},
     "output_type": "display_data"
    }
   ],
   "source": [
    "lhs3 = a/E\n",
    "rhs3 = dE_dx/E**2\n",
    "eq3 = sym.Eq(lhs3,rhs3)\n",
    "display(eq3)"
   ]
  },
  {
   "cell_type": "markdown",
   "metadata": {},
   "source": [
    "Using constitutive laws, we will now define the different components of strain, $\\epsilon_{xx}, \\epsilon_{yy}$ and $\\epsilon_{xy}$ in terms of the stress fields."
   ]
  },
  {
   "cell_type": "code",
   "execution_count": 6,
   "metadata": {},
   "outputs": [
    {
     "data": {
      "text/latex": [
       "$\\displaystyle \\epsilon_{xx}{\\left(x,y \\right)} = \\frac{- \\nu \\sigma_{yy}{\\left(x,y \\right)} + \\sigma_{xx}{\\left(x,y \\right)}}{E{\\left(x \\right)}}$"
      ],
      "text/plain": [
       "Eq(epsilon_xx(x, y), (-nu*sigma_yy(x, y) + sigma_xx(x, y))/E(x))"
      ]
     },
     "metadata": {},
     "output_type": "display_data"
    },
    {
     "data": {
      "text/latex": [
       "$\\displaystyle \\epsilon_{yy}{\\left(x,y \\right)} = \\frac{- \\nu \\sigma_{xx}{\\left(x,y \\right)} + \\sigma_{yy}{\\left(x,y \\right)}}{E{\\left(x \\right)}}$"
      ],
      "text/plain": [
       "Eq(epsilon_yy(x, y), (-nu*sigma_xx(x, y) + sigma_yy(x, y))/E(x))"
      ]
     },
     "metadata": {},
     "output_type": "display_data"
    },
    {
     "data": {
      "text/latex": [
       "$\\displaystyle \\epsilon_{xy}{\\left(x,y \\right)} = \\frac{\\left(\\nu + 1\\right) \\sigma_{xy}{\\left(x,y \\right)}}{E{\\left(x \\right)}}$"
      ],
      "text/plain": [
       "Eq(epsilon_xy(x, y), (nu + 1)*sigma_xy(x, y)/E(x))"
      ]
     },
     "metadata": {},
     "output_type": "display_data"
    }
   ],
   "source": [
    "sigmaxx = sym.Function('sigma_xx')(x,y)\n",
    "sigmayy = sym.Function('sigma_yy')(x,y)\n",
    "sigmaxy = sym.Function('sigma_xy')(x,y)\n",
    "# display(sigmaxx,sigmayy,sigmaxy)\n",
    "epsxx = sym.Function('epsilon_xx')(x,y)\n",
    "epsyy = sym.Function('epsilon_yy')(x,y)\n",
    "epsxy = sym.Function('epsilon_xy')(x,y)\n",
    "# display(epsxx,epsyy,epsxy)\n",
    "lhs4 = epsxx\n",
    "rhs4 = (1/E)*(sigmaxx - nu*sigmayy)\n",
    "eq4 = sym.Eq(lhs4,rhs4)\n",
    "\n",
    "lhs5 = epsyy\n",
    "rhs5 = (1/E)*(sigmayy - nu*sigmaxx)\n",
    "eq5 = sym.Eq(lhs5,rhs5)\n",
    "\n",
    "lhs6 = epsxy\n",
    "rhs6 = ((1+nu)/E)*(sigmaxy)\n",
    "eq6 = sym.Eq(lhs6,rhs6)\n",
    "\n",
    "display(eq4,eq5,eq6)"
   ]
  },
  {
   "cell_type": "markdown",
   "metadata": {},
   "source": [
    "Now, based on our understanding we will define the different stress fields, $\\sigma_{xx}, \\sigma_{yy}$ and $\\sigma_{xy}$ in terms of the Airy stress function, $\\varphi$. We know:\n",
    "\n",
    "$\\sigma_{xx} = \\frac{\\partial^2 \\varphi}{\\partial y^2}$;\n",
    "\n",
    "$\\sigma_{yy} = \\frac{\\partial^2 \\varphi}{\\partial x^2}$;\n",
    "\n",
    "$\\sigma_{xy} = -\\frac{\\partial^2 \\varphi}{\\partial x \\partial y}$."
   ]
  },
  {
   "cell_type": "code",
   "execution_count": 7,
   "metadata": {},
   "outputs": [
    {
     "data": {
      "text/latex": [
       "$\\displaystyle \\epsilon_{xx}{\\left(x,y \\right)} = \\frac{- \\nu \\frac{\\partial^{2}}{\\partial x^{2}} \\varphi{\\left(x,y \\right)} + \\frac{\\partial^{2}}{\\partial y^{2}} \\varphi{\\left(x,y \\right)}}{E{\\left(x \\right)}}$"
      ],
      "text/plain": [
       "Eq(epsilon_xx(x, y), (-nu*Derivative(varphi(x, y), (x, 2)) + Derivative(varphi(x, y), (y, 2)))/E(x))"
      ]
     },
     "metadata": {},
     "output_type": "display_data"
    },
    {
     "data": {
      "text/latex": [
       "$\\displaystyle \\epsilon_{yy}{\\left(x,y \\right)} = \\frac{- \\nu \\frac{\\partial^{2}}{\\partial y^{2}} \\varphi{\\left(x,y \\right)} + \\frac{\\partial^{2}}{\\partial x^{2}} \\varphi{\\left(x,y \\right)}}{E{\\left(x \\right)}}$"
      ],
      "text/plain": [
       "Eq(epsilon_yy(x, y), (-nu*Derivative(varphi(x, y), (y, 2)) + Derivative(varphi(x, y), (x, 2)))/E(x))"
      ]
     },
     "metadata": {},
     "output_type": "display_data"
    },
    {
     "data": {
      "text/latex": [
       "$\\displaystyle \\epsilon_{xy}{\\left(x,y \\right)} = - \\frac{\\left(\\nu + 1\\right) \\frac{\\partial^{2}}{\\partial y\\partial x} \\varphi{\\left(x,y \\right)}}{E{\\left(x \\right)}}$"
      ],
      "text/plain": [
       "Eq(epsilon_xy(x, y), -(nu + 1)*Derivative(varphi(x, y), x, y)/E(x))"
      ]
     },
     "metadata": {},
     "output_type": "display_data"
    }
   ],
   "source": [
    "sigmaxx = sym.diff(phi,(y,2))\n",
    "# display(sigmaxx)\n",
    "\n",
    "sigmayy = sym.diff(phi,(x,2))\n",
    "# display(sigmayy)\n",
    "\n",
    "sigmaxy = -sym.diff(phi,x,y)\n",
    "# display(sigmaxy)\n",
    "\n",
    "rhs7 = (1/E)*(sigmaxx - nu*sigmayy)\n",
    "eq7 = sym.Eq(epsxx,rhs7)\n",
    "\n",
    "rhs8 = (1/E)*(sigmayy - nu*sigmaxx)\n",
    "eq8 = sym.Eq(epsyy,rhs8)\n",
    "\n",
    "rhs9 = ((1+nu)/E)*(sigmaxy)\n",
    "eq9 = sym.Eq(epsxy,rhs9)\n",
    "\n",
    "display(eq7,eq8,eq9)"
   ]
  },
  {
   "cell_type": "markdown",
   "metadata": {},
   "source": [
    "We now will substitute these equations 7, 8 and 9 into the compatibility relations. Since this is a plane stress problem, we will use the compatibility equation, $\\frac{\\partial^2 \\epsilon_{xx}}{\\partial y^2} + \\frac{\\partial^2 \\epsilon_{yy}}{\\partial x^2} = 2 \\frac{\\partial^2 \\epsilon_{xy}}{\\partial x \\partial y}$."
   ]
  },
  {
   "cell_type": "code",
   "execution_count": 8,
   "metadata": {},
   "outputs": [
    {
     "data": {
      "text/latex": [
       "$\\displaystyle \\frac{\\partial^{2}}{\\partial y^{2}} \\left(- \\frac{\\nu \\frac{\\partial^{2}}{\\partial x^{2}} \\varphi{\\left(x,y \\right)}}{E{\\left(x \\right)}} + \\frac{\\frac{\\partial^{2}}{\\partial y^{2}} \\varphi{\\left(x,y \\right)}}{E{\\left(x \\right)}}\\right) + \\frac{\\partial^{2}}{\\partial x^{2}} \\left(- \\frac{\\nu \\frac{\\partial^{2}}{\\partial y^{2}} \\varphi{\\left(x,y \\right)}}{E{\\left(x \\right)}} + \\frac{\\frac{\\partial^{2}}{\\partial x^{2}} \\varphi{\\left(x,y \\right)}}{E{\\left(x \\right)}}\\right) - 2 \\frac{\\partial^{2}}{\\partial y\\partial x} \\left(- \\frac{\\nu \\frac{\\partial^{2}}{\\partial y\\partial x} \\varphi{\\left(x,y \\right)}}{E{\\left(x \\right)}} - \\frac{\\frac{\\partial^{2}}{\\partial y\\partial x} \\varphi{\\left(x,y \\right)}}{E{\\left(x \\right)}}\\right) = 0$"
      ],
      "text/plain": [
       "Eq(Derivative(-nu*Derivative(varphi(x, y), (x, 2))/E(x) + Derivative(varphi(x, y), (y, 2))/E(x), (y, 2)) + Derivative(-nu*Derivative(varphi(x, y), (y, 2))/E(x) + Derivative(varphi(x, y), (x, 2))/E(x), (x, 2)) - 2*Derivative(-nu*Derivative(varphi(x, y), x, y)/E(x) - Derivative(varphi(x, y), x, y)/E(x), x, y), 0)"
      ]
     },
     "metadata": {},
     "output_type": "display_data"
    }
   ],
   "source": [
    "lhs10 = (sym.diff(epsxx,(y,2)) + sym.diff(epsyy,(x,2))).subs([(epsxx,rhs7),(epsyy,rhs8)])\n",
    "# display(lhs10)\n",
    "\n",
    "rhs10 = 2*sym.diff(epsxy,x,y).subs(epsxy,rhs9)\n",
    "# display(rhs10)\n",
    "\n",
    "eq10 = sym.Eq(lhs10-rhs10,0).expand()\n",
    "display(eq10)"
   ]
  },
  {
   "cell_type": "markdown",
   "metadata": {},
   "source": [
    "Substituting the exponential varying elastic modulus into the equation gives us,"
   ]
  },
  {
   "cell_type": "code",
   "execution_count": 9,
   "metadata": {},
   "outputs": [
    {
     "data": {
      "text/latex": [
       "$\\displaystyle \\frac{\\left(a^{2} \\nu \\frac{\\partial^{2}}{\\partial y^{2}} \\varphi{\\left(x,y \\right)} - a^{2} \\frac{\\partial^{2}}{\\partial x^{2}} \\varphi{\\left(x,y \\right)} + 2 a \\frac{\\partial^{3}}{\\partial x^{3}} \\varphi{\\left(x,y \\right)} + 2 a \\frac{\\partial^{3}}{\\partial y^{2}\\partial x} \\varphi{\\left(x,y \\right)} - \\frac{\\partial^{4}}{\\partial x^{4}} \\varphi{\\left(x,y \\right)} - \\frac{\\partial^{4}}{\\partial y^{4}} \\varphi{\\left(x,y \\right)} - 2 \\frac{\\partial^{4}}{\\partial y^{2}\\partial x^{2}} \\varphi{\\left(x,y \\right)}\\right) e^{- a x}}{E_{0}} = 0$"
      ],
      "text/plain": [
       "Eq((a**2*nu*Derivative(varphi(x, y), (y, 2)) - a**2*Derivative(varphi(x, y), (x, 2)) + 2*a*Derivative(varphi(x, y), (x, 3)) + 2*a*Derivative(varphi(x, y), x, (y, 2)) - Derivative(varphi(x, y), (x, 4)) - Derivative(varphi(x, y), (y, 4)) - 2*Derivative(varphi(x, y), (x, 2), (y, 2)))*exp(-a*x)/E_0, 0)"
      ]
     },
     "metadata": {},
     "output_type": "display_data"
    }
   ],
   "source": [
    "eq11 = eq10.subs(lhs1,rhs1).simplify().expand().simplify()\n",
    "display(eq11)"
   ]
  },
  {
   "cell_type": "markdown",
   "metadata": {},
   "source": [
    "Multiplying both side by $e^{ax}$ and $E_0$,"
   ]
  },
  {
   "cell_type": "code",
   "execution_count": 10,
   "metadata": {},
   "outputs": [
    {
     "data": {
      "text/latex": [
       "$\\displaystyle - a^{2} \\nu \\frac{\\partial^{2}}{\\partial y^{2}} \\varphi{\\left(x,y \\right)} + a^{2} \\frac{\\partial^{2}}{\\partial x^{2}} \\varphi{\\left(x,y \\right)} - 2 a \\frac{\\partial^{3}}{\\partial x^{3}} \\varphi{\\left(x,y \\right)} - 2 a \\frac{\\partial^{3}}{\\partial y^{2}\\partial x} \\varphi{\\left(x,y \\right)} + \\frac{\\partial^{4}}{\\partial x^{4}} \\varphi{\\left(x,y \\right)} + \\frac{\\partial^{4}}{\\partial y^{4}} \\varphi{\\left(x,y \\right)} + 2 \\frac{\\partial^{4}}{\\partial y^{2}\\partial x^{2}} \\varphi{\\left(x,y \\right)} = 0$"
      ],
      "text/plain": [
       "Eq(-a**2*nu*Derivative(varphi(x, y), (y, 2)) + a**2*Derivative(varphi(x, y), (x, 2)) - 2*a*Derivative(varphi(x, y), (x, 3)) - 2*a*Derivative(varphi(x, y), x, (y, 2)) + Derivative(varphi(x, y), (x, 4)) + Derivative(varphi(x, y), (y, 4)) + 2*Derivative(varphi(x, y), (x, 2), (y, 2)), 0)"
      ]
     },
     "metadata": {},
     "output_type": "display_data"
    }
   ],
   "source": [
    "eq12 = sym.Eq((eq11.lhs*(sym.exp(a*x))*E0*-1),0)\n",
    "display(eq12)"
   ]
  },
  {
   "cell_type": "markdown",
   "metadata": {},
   "source": [
    "Adding and subtracting the term $a^2\\frac{\\partial^2 \\varphi}{\\partial y^2}$ for further simplification,"
   ]
  },
  {
   "cell_type": "code",
   "execution_count": 11,
   "metadata": {},
   "outputs": [
    {
     "data": {
      "text/latex": [
       "$\\displaystyle - a^{2} \\nu \\frac{\\partial^{2}}{\\partial y^{2}} \\varphi{\\left(x,y \\right)} + a^{2} \\frac{\\partial^{2}}{\\partial x^{2}} \\varphi{\\left(x,y \\right)} + a^{2} \\frac{\\partial^{2}}{\\partial y^{2}} \\varphi{\\left(x,y \\right)} - 2 a \\frac{\\partial^{3}}{\\partial x^{3}} \\varphi{\\left(x,y \\right)} - 2 a \\frac{\\partial^{3}}{\\partial y^{2}\\partial x} \\varphi{\\left(x,y \\right)} + \\frac{\\partial^{4}}{\\partial x^{4}} \\varphi{\\left(x,y \\right)} + \\frac{\\partial^{4}}{\\partial y^{4}} \\varphi{\\left(x,y \\right)} + 2 \\frac{\\partial^{4}}{\\partial y^{2}\\partial x^{2}} \\varphi{\\left(x,y \\right)} = a^{2} \\frac{\\partial^{2}}{\\partial y^{2}} \\varphi{\\left(x,y \\right)}$"
      ],
      "text/plain": [
       "Eq(-a**2*nu*Derivative(varphi(x, y), (y, 2)) + a**2*Derivative(varphi(x, y), (x, 2)) + a**2*Derivative(varphi(x, y), (y, 2)) - 2*a*Derivative(varphi(x, y), (x, 3)) - 2*a*Derivative(varphi(x, y), x, (y, 2)) + Derivative(varphi(x, y), (x, 4)) + Derivative(varphi(x, y), (y, 4)) + 2*Derivative(varphi(x, y), (x, 2), (y, 2)), a**2*Derivative(varphi(x, y), (y, 2)))"
      ]
     },
     "metadata": {},
     "output_type": "display_data"
    }
   ],
   "source": [
    "eq13 = sym.Eq(eq12.lhs + (a**2)*(del2_dely(phi)), (a**2)*(del2_dely(phi))).expand()\n",
    "display(eq13)"
   ]
  },
  {
   "cell_type": "markdown",
   "metadata": {},
   "source": [
    "So, this the final equation that we have derived. Since, python cannot simplify it any further, we will try to represent the derived equation in the form of the biharmonic operator, which is more appealing for our understanding.\n",
    "\n",
    "So first, let's define the Cartesian Laplacian & Biharmonic operator. And then, we will diplay the results that we get when these operators are applied on Airy stress function $φ(x,y)$. "
   ]
  },
  {
   "cell_type": "code",
   "execution_count": 12,
   "metadata": {},
   "outputs": [
    {
     "data": {
      "text/latex": [
       "$\\displaystyle \\nabla^2 \\varphi(x,y) = \\frac{\\partial^{2}}{\\partial x^{2}} \\varphi{\\left(x,y \\right)} + \\frac{\\partial^{2}}{\\partial y^{2}} \\varphi{\\left(x,y \\right)}$"
      ],
      "text/plain": [
       "<IPython.core.display.Math object>"
      ]
     },
     "metadata": {},
     "output_type": "display_data"
    },
    {
     "data": {
      "text/latex": [
       "$\\displaystyle \\nabla^4 \\varphi(x,y) = \\frac{\\partial^{4}}{\\partial x^{4}} \\varphi{\\left(x,y \\right)} + \\frac{\\partial^{4}}{\\partial y^{4}} \\varphi{\\left(x,y \\right)} + 2 \\frac{\\partial^{4}}{\\partial y^{2}\\partial x^{2}} \\varphi{\\left(x,y \\right)}$"
      ],
      "text/plain": [
       "<IPython.core.display.Math object>"
      ]
     },
     "metadata": {},
     "output_type": "display_data"
    }
   ],
   "source": [
    "def Cart_Laplacian(f):\n",
    "    return del2_delx(f) + del2_dely(f)\n",
    "\n",
    "def biharmonic(f):\n",
    "    return Cart_Laplacian(Cart_Laplacian(f))\n",
    "\n",
    "#display (Cart_Laplacian(phi))\n",
    "\n",
    "#display (biharmonic(phi))\n",
    "\n",
    "from IPython.display import Math, Latex\n",
    "display(Math(r'\\nabla^2 \\varphi(x,y) = {}'.format(sym.latex(Cart_Laplacian(phi)))))\n",
    "\n",
    "from IPython.display import Math, Latex\n",
    "display(Math(r'\\nabla^4 \\varphi(x,y) = {}'.format(sym.latex(biharmonic(phi)))))"
   ]
  },
  {
   "cell_type": "markdown",
   "metadata": {},
   "source": [
    "Utlising above expressions and writing our equation in biharmonic and laplacian operator annotations gives us,"
   ]
  },
  {
   "cell_type": "code",
   "execution_count": 13,
   "metadata": {},
   "outputs": [
    {
     "data": {
      "text/latex": [
       "$\\displaystyle \\nabla^4 \\varphi(x,y) - 2a \\frac{\\partial(\\nabla^2 \\varphi(x,y))}{\\partial x} + a^2 \\nabla^2 \\varphi(x,y) - a^2 (1+ν)\\frac{\\partial^2\\varphi(x,y)}{\\partial y^2}= 0$"
      ],
      "text/plain": [
       "<IPython.core.display.Math object>"
      ]
     },
     "metadata": {},
     "output_type": "display_data"
    }
   ],
   "source": [
    "from IPython.display import Math, Latex\n",
    "display(Math(r'\\nabla^4 \\varphi(x,y) - 2a \\frac{\\partial(\\nabla^2 \\varphi(x,y))}{\\partial x} + a^2 \\nabla^2 \\varphi(x,y) - a^2 (1+ν)\\frac{\\partial^2\\varphi(x,y)}{\\partial y^2}= 0'))\n"
   ]
  },
  {
   "cell_type": "markdown",
   "metadata": {},
   "source": [
    "<b>Results and Discussions </b>\n",
    "<br>So in this project, we have managed to encapsulate three vital and different equations which a material is expected to follow - the constitutive law, the stress equilibrium equations and the compatibility equations, all of them within just one equation, the Airy stress function equation whose final expression is displayed above. All this has been done for a body with Functionally Graded Material with exponentially varying Elastic modulus.\n",
    "\n",
    "Note that, when $a=0$, this result reduces to the homogeneous form $∇^4φ=0$. The nonhomogeneous\n",
    "result is a challenging equation, and its solution was developed for the limited case near the tip\n",
    "of a crack using asymptotic analysis. \n"
   ]
  },
  {
   "cell_type": "markdown",
   "metadata": {},
   "source": [
    "<b>References</b>\n",
    "<br>This exponential variation problem was taken from chapter 7 of the book, \"Elasticity Theory, Applications and Numerics \" by Martin H. Saad where this problem has been presented as an unsolved problem in the exercise of chapter 7 (problem no. 7.12).\n",
    "\n",
    "Now, this is the first part of our term project, we were further motivated to extend this problem to a Body with Two Different Materials. Requesting you to please go through the 2nd report of our project where the problem and its solution has been deeply discussed."
   ]
  },
  {
   "cell_type": "code",
   "execution_count": null,
   "metadata": {},
   "outputs": [],
   "source": []
  }
 ],
 "metadata": {
  "kernelspec": {
   "display_name": "Python 3",
   "language": "python",
   "name": "python3"
  },
  "language_info": {
   "codemirror_mode": {
    "name": "ipython",
    "version": 3
   },
   "file_extension": ".py",
   "mimetype": "text/x-python",
   "name": "python",
   "nbconvert_exporter": "python",
   "pygments_lexer": "ipython3",
   "version": "3.8.3"
  }
 },
 "nbformat": 4,
 "nbformat_minor": 4
}
